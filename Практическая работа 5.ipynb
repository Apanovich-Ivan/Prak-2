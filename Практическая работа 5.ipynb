{
 "cells": [
  {
   "cell_type": "markdown",
   "metadata": {},
   "source": [
    "# Задание 1"
   ]
  },
  {
   "cell_type": "code",
   "execution_count": 29,
   "metadata": {},
   "outputs": [
    {
     "name": "stdout",
     "output_type": "stream",
     "text": [
      "50\n",
      "1\n",
      "4\n",
      "9\n",
      "16\n",
      "25\n",
      "36\n",
      "49\n"
     ]
    }
   ],
   "source": [
    "n=int(input())\n",
    "i=1\n",
    "while i**2<=n:\n",
    "    print(i**2)\n",
    "    i+=1"
   ]
  },
  {
   "cell_type": "markdown",
   "metadata": {},
   "source": [
    "# Задание 2"
   ]
  },
  {
   "cell_type": "code",
   "execution_count": 30,
   "metadata": {},
   "outputs": [
    {
     "name": "stdout",
     "output_type": "stream",
     "text": [
      "15\n",
      "3\n"
     ]
    }
   ],
   "source": [
    "n=int(input())\n",
    "i=2\n",
    "while n%i!=0:\n",
    "    i+=1\n",
    "print(i)"
   ]
  },
  {
   "cell_type": "markdown",
   "metadata": {},
   "source": [
    "# Задание 3"
   ]
  },
  {
   "cell_type": "code",
   "execution_count": 32,
   "metadata": {},
   "outputs": [
    {
     "name": "stdout",
     "output_type": "stream",
     "text": [
      "50\n",
      "2\n",
      "4\n",
      "8\n",
      "16\n",
      "32\n",
      "64\n"
     ]
    }
   ],
   "source": [
    "n=int(input())\n",
    "m=1\n",
    "while m<n:\n",
    "    m=m*2\n",
    "    print(m)"
   ]
  },
  {
   "cell_type": "markdown",
   "metadata": {},
   "source": [
    "# Задание 4"
   ]
  },
  {
   "cell_type": "code",
   "execution_count": 33,
   "metadata": {},
   "outputs": [
    {
     "name": "stdout",
     "output_type": "stream",
     "text": [
      "16\n",
      "YES\n"
     ]
    }
   ],
   "source": [
    "n=int(input())\n",
    "i=1\n",
    "while i<=n:\n",
    "    if i==n:\n",
    "        print(\"YES\")\n",
    "        break\n",
    "    i*=2\n",
    "else:\n",
    "    print(\"NO\")"
   ]
  },
  {
   "cell_type": "markdown",
   "metadata": {},
   "source": [
    "# Задание 5"
   ]
  },
  {
   "cell_type": "code",
   "execution_count": 34,
   "metadata": {},
   "outputs": [
    {
     "name": "stdout",
     "output_type": "stream",
     "text": [
      "2\n",
      "1\n"
     ]
    }
   ],
   "source": [
    "n=int(input())\n",
    "k=0\n",
    "while 2**k<n:\n",
    "    k+=1\n",
    "print(k)"
   ]
  },
  {
   "cell_type": "markdown",
   "metadata": {},
   "source": [
    "# Задание 6"
   ]
  },
  {
   "cell_type": "code",
   "execution_count": 35,
   "metadata": {},
   "outputs": [
    {
     "name": "stdout",
     "output_type": "stream",
     "text": [
      "10\n",
      "20\n",
      "9\n"
     ]
    }
   ],
   "source": [
    "x=int(input())\n",
    "y=int(input())\n",
    "i=1\n",
    "while x<y:\n",
    "    x*=1.1\n",
    "    i+=1\n",
    "print(i)"
   ]
  },
  {
   "cell_type": "markdown",
   "metadata": {},
   "source": [
    "# Задание 7"
   ]
  },
  {
   "cell_type": "code",
   "execution_count": 36,
   "metadata": {},
   "outputs": [
    {
     "name": "stdout",
     "output_type": "stream",
     "text": [
      "1\n",
      "7\n",
      "9\n",
      "0\n",
      "9\n"
     ]
    }
   ],
   "source": [
    "max=0\n",
    "el=-1\n",
    "while el!=0:\n",
    "    el=int(input())\n",
    "    if el>max:\n",
    "        max=el\n",
    "print(max)"
   ]
  },
  {
   "cell_type": "markdown",
   "metadata": {},
   "source": [
    "# Задание 8"
   ]
  },
  {
   "cell_type": "code",
   "execution_count": 37,
   "metadata": {},
   "outputs": [],
   "source": [
    "def f(n): return (n*(n+1)//2)**2"
   ]
  },
  {
   "cell_type": "markdown",
   "metadata": {},
   "source": [
    "# Задание 9"
   ]
  },
  {
   "cell_type": "code",
   "execution_count": 38,
   "metadata": {},
   "outputs": [
    {
     "name": "stdout",
     "output_type": "stream",
     "text": [
      "1\n",
      "7\n",
      "9\n",
      "0\n",
      "3\n"
     ]
    }
   ],
   "source": [
    "len=0\n",
    "while int(input())!=0:\n",
    "    len+=1\n",
    "print(len)"
   ]
  },
  {
   "cell_type": "markdown",
   "metadata": {},
   "source": [
    "# Задание 10"
   ]
  },
  {
   "cell_type": "code",
   "execution_count": 39,
   "metadata": {},
   "outputs": [
    {
     "name": "stdout",
     "output_type": "stream",
     "text": [
      "1\n",
      "7\n",
      "9\n",
      "0\n",
      "17\n"
     ]
    }
   ],
   "source": [
    "sum=0\n",
    "el=int(input())\n",
    "while el!=0:\n",
    "    sum+=el\n",
    "    el=int(input())\n",
    "print(sum)"
   ]
  },
  {
   "cell_type": "markdown",
   "metadata": {},
   "source": [
    "# Задание 11"
   ]
  },
  {
   "cell_type": "code",
   "execution_count": 40,
   "metadata": {},
   "outputs": [
    {
     "name": "stdout",
     "output_type": "stream",
     "text": [
      "1\n",
      "7\n",
      "9\n",
      "0\n",
      "5.666666666666667\n"
     ]
    }
   ],
   "source": [
    "sum=0\n",
    "len=0\n",
    "el=int(input())\n",
    "while el!=0:\n",
    "    sum+=el\n",
    "    len+=1\n",
    "    el=int(input())\n",
    "print(sum/len)"
   ]
  },
  {
   "cell_type": "markdown",
   "metadata": {},
   "source": [
    "# Задание 12"
   ]
  },
  {
   "cell_type": "code",
   "execution_count": 41,
   "metadata": {},
   "outputs": [
    {
     "name": "stdout",
     "output_type": "stream",
     "text": [
      "2\n",
      "1\n",
      "4\n",
      "0\n",
      "2\n"
     ]
    }
   ],
   "source": [
    "num_even=-1\n",
    "el=-1\n",
    "while el!=0:\n",
    "    el=int(input())\n",
    "    if el%2==0:\n",
    "        num_even+=1\n",
    "print(num_even)"
   ]
  },
  {
   "cell_type": "markdown",
   "metadata": {},
   "source": [
    "# Задание 13"
   ]
  },
  {
   "cell_type": "code",
   "execution_count": 42,
   "metadata": {},
   "outputs": [
    {
     "name": "stdout",
     "output_type": "stream",
     "text": [
      "1\n",
      "7\n",
      "9\n",
      "0\n",
      "2\n"
     ]
    }
   ],
   "source": [
    "prev=int(input())\n",
    "ans=0\n",
    "while prev!=0:\n",
    "    next=int(input())\n",
    "    if next!=0 and prev<next:\n",
    "        ans+=1\n",
    "    prev=next\n",
    "print(ans)"
   ]
  },
  {
   "cell_type": "markdown",
   "metadata": {},
   "source": [
    "# Задание 14"
   ]
  },
  {
   "cell_type": "code",
   "execution_count": 43,
   "metadata": {},
   "outputs": [
    {
     "name": "stdout",
     "output_type": "stream",
     "text": [
      "1\n",
      "7\n",
      "9\n",
      "0\n",
      "7\n"
     ]
    }
   ],
   "source": [
    "f_max=int(input())\n",
    "s_max=int(input())\n",
    "if f_max<s_max:\n",
    "    f_max, s_max=s_max, f_max\n",
    "el=int(input())\n",
    "while el!=0:\n",
    "    if el> f_max:\n",
    "        s_max, f_max=f_max, el\n",
    "    elif el>s_max:\n",
    "        s_max=el\n",
    "    el=int(input())\n",
    "print(s_max)"
   ]
  },
  {
   "cell_type": "markdown",
   "metadata": {},
   "source": [
    "# Задание 15"
   ]
  },
  {
   "cell_type": "code",
   "execution_count": 44,
   "metadata": {},
   "outputs": [
    {
     "name": "stdout",
     "output_type": "stream",
     "text": [
      "1\n",
      "7\n",
      "9\n",
      "0\n",
      "1\n"
     ]
    }
   ],
   "source": [
    "maxim=0\n",
    "num_maximal=0\n",
    "el=-1\n",
    "while el!=0:\n",
    "    el=int(input())\n",
    "    if el>maxim:\n",
    "        maxim, num_maximal=el, 1\n",
    "    elif el==maxim:\n",
    "        num_maximal+=1       \n",
    "print(num_maximal)"
   ]
  },
  {
   "cell_type": "markdown",
   "metadata": {},
   "source": [
    "# Задание 16"
   ]
  },
  {
   "cell_type": "code",
   "execution_count": 45,
   "metadata": {},
   "outputs": [
    {
     "name": "stdout",
     "output_type": "stream",
     "text": [
      "Номер элемента ряда Фибоначчи: 6\n",
      "8\n"
     ]
    }
   ],
   "source": [
    "f1=1\n",
    "f2=1\n",
    "n=input(\"Номер элемента ряда Фибоначчи: \")\n",
    "n=int(n)\n",
    "i=0\n",
    "while i<n-2:\n",
    "    f_sum=f1+f2\n",
    "    f1=f2\n",
    "    f2=f_sum\n",
    "    i=i + 1\n",
    "print(f2)"
   ]
  },
  {
   "cell_type": "markdown",
   "metadata": {},
   "source": [
    "# Задание 17"
   ]
  },
  {
   "cell_type": "code",
   "execution_count": 46,
   "metadata": {},
   "outputs": [
    {
     "name": "stdout",
     "output_type": "stream",
     "text": [
      "8\n",
      "6\n"
     ]
    }
   ],
   "source": [
    "a=int(input())\n",
    "if a==0:\n",
    "    print(0)\n",
    "else:\n",
    "    f_prev, f_next= 0, 1\n",
    "    n=1\n",
    "    while f_next<=a:\n",
    "        if f_next== a:\n",
    "            print(n)\n",
    "            break\n",
    "        f_prev, f_next=f_next, f_prev+f_next\n",
    "        n+=1\n",
    "    else:\n",
    "        print(-1)"
   ]
  },
  {
   "cell_type": "markdown",
   "metadata": {},
   "source": [
    "# Задание 18"
   ]
  },
  {
   "cell_type": "code",
   "execution_count": 49,
   "metadata": {},
   "outputs": [
    {
     "name": "stdout",
     "output_type": "stream",
     "text": [
      "179\n",
      "20\n",
      "Вычесть 1\n",
      "Разделить на 2\n",
      "Вычесть 1\n",
      "Разделить на 2\n",
      "Разделить на 2\n",
      "Вычесть 1\n",
      "Вычесть 1\n"
     ]
    }
   ],
   "source": [
    "a, b = int(input()), int(input())\n",
    "while a!=b:\n",
    "  if (a//2>=b) and (a%2 == 0):\n",
    "    print ('Разделить на 2')\n",
    "    a//=2\n",
    "  else:\n",
    "    print ('Вычесть 1')\n",
    "    a-=1"
   ]
  },
  {
   "cell_type": "markdown",
   "metadata": {},
   "source": [
    "# Задание 19"
   ]
  },
  {
   "cell_type": "code",
   "execution_count": 50,
   "metadata": {},
   "outputs": [
    {
     "name": "stdout",
     "output_type": "stream",
     "text": [
      "Введите целое число: 12\n",
      "\"Обратное\" ему число: 21\n"
     ]
    }
   ],
   "source": [
    "n1=int(input(\"Введите целое число: \"))\n",
    "n2=0\n",
    "while n1>0:\n",
    "    digit=n1%10  # находим остаток - последнюю цифру числа\n",
    "    n1=n1//10    # делим нацело - убираем из числа последнюю цифру\n",
    "    n2=n2*10     # увеличиваем разрядность второго числа\n",
    "    n2=n2+digit  # добавляем очередную цифру\n",
    "print('\"Обратное\" ему число:', n2)"
   ]
  },
  {
   "cell_type": "markdown",
   "metadata": {},
   "source": [
    "# Задание 20"
   ]
  },
  {
   "cell_type": "code",
   "execution_count": 51,
   "metadata": {},
   "outputs": [
    {
     "name": "stdout",
     "output_type": "stream",
     "text": [
      "Введите K: 100\n",
      "18\n"
     ]
    }
   ],
   "source": [
    "K=int(input('Введите K: '))\n",
    "count=0 \n",
    "for i in range(1, K+1):\n",
    "    str1=str(i)\n",
    "    if str1==str1[::-1]:\n",
    "        count+=1\n",
    "print(count)"
   ]
  },
  {
   "cell_type": "markdown",
   "metadata": {},
   "source": [
    "# Задание 21"
   ]
  },
  {
   "cell_type": "code",
   "execution_count": 56,
   "metadata": {},
   "outputs": [
    {
     "name": "stdout",
     "output_type": "stream",
     "text": [
      "1\n"
     ]
    },
    {
     "ename": "TypeError",
     "evalue": "'int' object is not callable",
     "output_type": "error",
     "traceback": [
      "\u001b[1;31m---------------------------------------------------------------------------\u001b[0m",
      "\u001b[1;31mTypeError\u001b[0m                                 Traceback (most recent call last)",
      "\u001b[1;32m<ipython-input-56-ca915b0f80c2>\u001b[0m in \u001b[0;36m<module>\u001b[1;34m\u001b[0m\n\u001b[0;32m      8\u001b[0m     \u001b[1;32melse\u001b[0m\u001b[1;33m:\u001b[0m\u001b[1;33m\u001b[0m\u001b[1;33m\u001b[0m\u001b[0m\n\u001b[0;32m      9\u001b[0m         \u001b[0mprev\u001b[0m \u001b[1;33m=\u001b[0m \u001b[0melement\u001b[0m\u001b[1;33m\u001b[0m\u001b[1;33m\u001b[0m\u001b[0m\n\u001b[1;32m---> 10\u001b[1;33m         \u001b[0mmax_rep_len\u001b[0m \u001b[1;33m=\u001b[0m \u001b[0mmax\u001b[0m\u001b[1;33m(\u001b[0m\u001b[0mmax_rep_len\u001b[0m\u001b[1;33m,\u001b[0m \u001b[0mcurr_rep_len\u001b[0m\u001b[1;33m)\u001b[0m\u001b[1;33m\u001b[0m\u001b[1;33m\u001b[0m\u001b[0m\n\u001b[0m\u001b[0;32m     11\u001b[0m         \u001b[0mcurr_rep_len\u001b[0m \u001b[1;33m=\u001b[0m \u001b[1;36m1\u001b[0m\u001b[1;33m\u001b[0m\u001b[1;33m\u001b[0m\u001b[0m\n\u001b[0;32m     12\u001b[0m     \u001b[0melement\u001b[0m \u001b[1;33m=\u001b[0m \u001b[0mint\u001b[0m\u001b[1;33m(\u001b[0m\u001b[0minput\u001b[0m\u001b[1;33m(\u001b[0m\u001b[1;33m)\u001b[0m\u001b[1;33m)\u001b[0m\u001b[1;33m\u001b[0m\u001b[1;33m\u001b[0m\u001b[0m\n",
      "\u001b[1;31mTypeError\u001b[0m: 'int' object is not callable"
     ]
    }
   ],
   "source": [
    "prev = -1\n",
    "curr_rep_len = 0\n",
    "max_rep_len = 0\n",
    "element = int(input())\n",
    "while element != 0:\n",
    "    if prev == element:\n",
    "        curr_rep_len += 1\n",
    "    else:\n",
    "        prev = element\n",
    "        max_rep_len = max(max_rep_len, curr_rep_len)\n",
    "        curr_rep_len = 1\n",
    "    element = int(input())\n",
    "max_rep_len = max(max_rep_len, curr_rep_len)\n",
    "print(max_rep_len)"
   ]
  },
  {
   "cell_type": "markdown",
   "metadata": {},
   "source": [
    "# Задание 22"
   ]
  },
  {
   "cell_type": "code",
   "execution_count": 57,
   "metadata": {},
   "outputs": [
    {
     "name": "stdout",
     "output_type": "stream",
     "text": [
      "1\n",
      "7\n",
      "7\n",
      "9\n",
      "1\n",
      "0\n",
      "2\n"
     ]
    }
   ],
   "source": [
    "x1=int(input())\n",
    "x2=int(input())\n",
    "n_max=1\n",
    "n=1\n",
    "while 0==0:\n",
    "    if x2==0 or x1==0:\n",
    "        break    \n",
    "    while x1>x2:\n",
    "        if x2==0:\n",
    "            break        \n",
    "        n+=1\n",
    "        if n>n_max:\n",
    "            n_max=n\n",
    "            x1=x2\n",
    "            x2=int(input())\n",
    "        else:\n",
    "            x1=x2\n",
    "            x2=int(input())\n",
    "    n=1\n",
    "    while x1<x2:\n",
    "        n+=1\n",
    "        if n>n_max:\n",
    "            n_max=n\n",
    "            x1=x2\n",
    "            x2=int(input())\n",
    "        else:\n",
    "            x1=x2\n",
    "            x2=int(input())\n",
    "    n=1\n",
    "    while x1==x2:\n",
    "        n=1\n",
    "        x1=x2\n",
    "        x2=int(input())\n",
    "print(n_max)"
   ]
  },
  {
   "cell_type": "markdown",
   "metadata": {},
   "source": [
    "# Задание 23"
   ]
  },
  {
   "cell_type": "code",
   "execution_count": 58,
   "metadata": {},
   "outputs": [
    {
     "name": "stdout",
     "output_type": "stream",
     "text": [
      "1\n",
      "2\n",
      "1\n",
      "1\n",
      "2\n",
      "1\n",
      "2\n",
      "1\n",
      "0\n",
      "Наименьшее расстояние: 2\n"
     ]
    }
   ],
   "source": [
    "x=1\n",
    "i=0\n",
    "V1=1\n",
    "V2=0\n",
    "V3=0\n",
    "max1_n=0\n",
    "max2_n=0\n",
    "Res=1000000\n",
    "while V1!=0:\n",
    "    i+=1\n",
    "    V3=V2\n",
    "    V2=V1\n",
    "    V1=int(input())\n",
    "    if i>2 and V2>V1 and V2>V3 and V1!=0:\n",
    "        max2_n=max1_n\n",
    "        max1_n=i\n",
    "        if (max1_n>0) and (max2_n>0) and (max1_n-max2_n<Res):\n",
    "            Res=max1_n-max2_n\n",
    "if Res==1000000: Res=0\n",
    "print(\"Наименьшее расстояние:\", Res)"
   ]
  },
  {
   "cell_type": "markdown",
   "metadata": {},
   "source": [
    "# Задание 24"
   ]
  },
  {
   "cell_type": "code",
   "execution_count": 59,
   "metadata": {},
   "outputs": [
    {
     "name": "stdout",
     "output_type": "stream",
     "text": [
      "3\n",
      "4\n",
      "5\n",
      "6.000000\n"
     ]
    }
   ],
   "source": [
    "a=float(input())\n",
    "b=float(input())\n",
    "c=float(input())\n",
    "p= (a + b + c) / 2  # полупериметр\n",
    "s = (p * (p - a) * (p - b) * (p - c))\n",
    "if s < 0:\n",
    "    s *= -1\n",
    "print('{:.6f}'.format(pow(s, 0.5)))"
   ]
  },
  {
   "cell_type": "code",
   "execution_count": null,
   "metadata": {},
   "outputs": [],
   "source": []
  }
 ],
 "metadata": {
  "kernelspec": {
   "display_name": "Python 3",
   "language": "python",
   "name": "python3"
  },
  "language_info": {
   "codemirror_mode": {
    "name": "ipython",
    "version": 3
   },
   "file_extension": ".py",
   "mimetype": "text/x-python",
   "name": "python",
   "nbconvert_exporter": "python",
   "pygments_lexer": "ipython3",
   "version": "3.8.3"
  }
 },
 "nbformat": 4,
 "nbformat_minor": 4
}
