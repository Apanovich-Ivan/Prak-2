{
 "cells": [
  {
   "cell_type": "markdown",
   "metadata": {},
   "source": [
    "# Задание 1"
   ]
  },
  {
   "cell_type": "code",
   "execution_count": 34,
   "metadata": {},
   "outputs": [
    {
     "name": "stdout",
     "output_type": "stream",
     "text": [
      "egor\n",
      "Hello, egor!\n"
     ]
    }
   ],
   "source": [
    "print('Hello, '+input()+\"!\")"
   ]
  },
  {
   "cell_type": "markdown",
   "metadata": {},
   "source": [
    "# Задание 2"
   ]
  },
  {
   "cell_type": "code",
   "execution_count": 9,
   "metadata": {},
   "outputs": [
    {
     "name": "stdout",
     "output_type": "stream",
     "text": [
      "7\n",
      "  _~_    _~_    _~_    _~_    _~_    _~_    _~_  \n",
      " (o o)  (o o)  (o o)  (o o)  (o o)  (o o)  (o o) \n",
      " / V \\  / V \\  / V \\  / V \\  / V \\  / V \\  / V \\ \n",
      "/( _ )\\/( _ )\\/( _ )\\/( _ )\\/( _ )\\/( _ )\\/( _ )\\\n",
      " ^^ ^^  ^^ ^^  ^^ ^^  ^^ ^^  ^^ ^^  ^^ ^^  ^^ ^^ \n"
     ]
    }
   ],
   "source": [
    "n = int(input()) \n",
    "print(\"  _~_  \"*n,\" (o o) \"*n,\" / V \\\\ \"*n,\"/( _ )\\\\\"*n,\" ^^ ^^ \"*n,sep=\"\\n\")"
   ]
  },
  {
   "cell_type": "markdown",
   "metadata": {},
   "source": [
    "# Задание 3"
   ]
  },
  {
   "cell_type": "code",
   "execution_count": 15,
   "metadata": {},
   "outputs": [
    {
     "name": "stdout",
     "output_type": "stream",
     "text": [
      "3\n",
      "14\n",
      "4\n"
     ]
    }
   ],
   "source": [
    "n = int(input())\n",
    "k = int(input())\n",
    "yab = 0\n",
    "ost = 0\n",
    "yab = int(k//n)\n",
    "print(str(yab))"
   ]
  },
  {
   "cell_type": "markdown",
   "metadata": {},
   "source": [
    "# Задание 4"
   ]
  },
  {
   "cell_type": "code",
   "execution_count": 17,
   "metadata": {},
   "outputs": [
    {
     "name": "stdout",
     "output_type": "stream",
     "text": [
      "3\n",
      "14\n",
      "2\n"
     ]
    }
   ],
   "source": [
    "n = int(input())\n",
    "k = int(input())\n",
    "yab = 0\n",
    "ost = 0\n",
    "ost = int(k%n)\n",
    "print(str(ost))"
   ]
  },
  {
   "cell_type": "markdown",
   "metadata": {},
   "source": [
    "# Задание 5"
   ]
  },
  {
   "cell_type": "code",
   "execution_count": 27,
   "metadata": {},
   "outputs": [
    {
     "name": "stdout",
     "output_type": "stream",
     "text": [
      "5\n",
      "32\n"
     ]
    }
   ],
   "source": [
    "n=int(input())\n",
    "print(2**n)"
   ]
  },
  {
   "cell_type": "markdown",
   "metadata": {},
   "source": [
    "# Задание 6"
   ]
  },
  {
   "cell_type": "code",
   "execution_count": 29,
   "metadata": {},
   "outputs": [
    {
     "name": "stdout",
     "output_type": "stream",
     "text": [
      "179\n",
      "9\n"
     ]
    }
   ],
   "source": [
    "n=int(input())\n",
    "print(n%10)"
   ]
  },
  {
   "cell_type": "markdown",
   "metadata": {},
   "source": [
    "# Задание 7"
   ]
  },
  {
   "cell_type": "code",
   "execution_count": 1,
   "metadata": {},
   "outputs": [
    {
     "name": "stdout",
     "output_type": "stream",
     "text": [
      "26\n",
      "2\n"
     ]
    }
   ],
   "source": [
    "n=int(input())\n",
    "print(n//10)"
   ]
  },
  {
   "cell_type": "markdown",
   "metadata": {},
   "source": [
    "# Задание 8"
   ]
  },
  {
   "cell_type": "code",
   "execution_count": 2,
   "metadata": {},
   "outputs": [
    {
     "name": "stdout",
     "output_type": "stream",
     "text": [
      "63\n",
      "6\n"
     ]
    }
   ],
   "source": [
    "n=int(input())\n",
    "print((n//10)%10)"
   ]
  },
  {
   "cell_type": "markdown",
   "metadata": {},
   "source": [
    "# Задание 9"
   ]
  },
  {
   "cell_type": "code",
   "execution_count": 12,
   "metadata": {},
   "outputs": [
    {
     "name": "stdout",
     "output_type": "stream",
     "text": [
      "234\n",
      "9\n"
     ]
    }
   ],
   "source": [
    "n=int(input())\n",
    "print(n//100+(n%100)//10+n%10)"
   ]
  },
  {
   "cell_type": "markdown",
   "metadata": {},
   "source": [
    "# Задание 10"
   ]
  },
  {
   "cell_type": "code",
   "execution_count": 13,
   "metadata": {},
   "outputs": [
    {
     "name": "stdout",
     "output_type": "stream",
     "text": [
      "AAAAAAAAAAAAAAAAAAAAAAAAAAAAAAAAAAAAAAAAAAAAAAAAAAAAAAAAAAAAAAAAAAAAAAAAAAAAAAAAAAAAAAAAAAAAAAAAAAAA\n"
     ]
    }
   ],
   "source": [
    "print('A'*100)"
   ]
  },
  {
   "cell_type": "markdown",
   "metadata": {},
   "source": [
    "# Задание 11"
   ]
  },
  {
   "cell_type": "code",
   "execution_count": 10,
   "metadata": {},
   "outputs": [
    {
     "name": "stdout",
     "output_type": "stream",
     "text": [
      "119\n",
      "1 59\n"
     ]
    }
   ],
   "source": [
    "n=int(input())\n",
    "print(n//60, n%60)"
   ]
  },
  {
   "cell_type": "markdown",
   "metadata": {},
   "source": [
    "# Задание 12"
   ]
  },
  {
   "cell_type": "code",
   "execution_count": 24,
   "metadata": {},
   "outputs": [
    {
     "name": "stdout",
     "output_type": "stream",
     "text": [
      "2\n",
      "50\n",
      "2\n",
      "5 0\n"
     ]
    }
   ],
   "source": [
    "a=int(input())\n",
    "b=int(input())\n",
    "n=int(input())\n",
    "sto=n*(a*100+b)\n",
    "print(sto//100, sto%100)"
   ]
  },
  {
   "cell_type": "markdown",
   "metadata": {},
   "source": [
    "# Задание 13"
   ]
  },
  {
   "cell_type": "code",
   "execution_count": 26,
   "metadata": {},
   "outputs": [
    {
     "name": "stdout",
     "output_type": "stream",
     "text": [
      "234\n",
      "The next number for the number  234  is  235\n",
      "The previous number for the number  234  is  233\n"
     ]
    }
   ],
   "source": [
    "n=int(input())\n",
    "print('The next number for the number ',n,' is ',n+1)\n",
    "print('The previous number for the number ',n,' is ',n-1)"
   ]
  },
  {
   "cell_type": "markdown",
   "metadata": {},
   "source": [
    "# Задание 14"
   ]
  },
  {
   "cell_type": "code",
   "execution_count": null,
   "metadata": {},
   "outputs": [],
   "source": [
    "n=int(input())\n",
    "print(1-n)"
   ]
  },
  {
   "cell_type": "markdown",
   "metadata": {},
   "source": [
    "# Задание 15"
   ]
  },
  {
   "cell_type": "code",
   "execution_count": 41,
   "metadata": {},
   "outputs": [
    {
     "name": "stdout",
     "output_type": "stream",
     "text": [
      "24\n",
      "26\n"
     ]
    }
   ],
   "source": [
    "n=int(input())\n",
    "print(n+2-(n%2))"
   ]
  },
  {
   "cell_type": "markdown",
   "metadata": {},
   "source": [
    "# Задание 16"
   ]
  },
  {
   "cell_type": "code",
   "execution_count": 3,
   "metadata": {},
   "outputs": [
    {
     "name": "stdout",
     "output_type": "stream",
     "text": [
      "2\n",
      "4938271604938271604938271604938271604938271604938271604938271604938271604938271604938271604938271603950617283950617283950617283950617283950617283950617283950617283950617283950617283950617283950617284\n"
     ]
    }
   ],
   "source": [
    "n=int(input())\n",
    "n=str(n)*100\n",
    "n=int(n)**2\n",
    "print(n)"
   ]
  },
  {
   "cell_type": "markdown",
   "metadata": {},
   "source": [
    "# Задание 17"
   ]
  },
  {
   "cell_type": "code",
   "execution_count": 9,
   "metadata": {},
   "outputs": [
    {
     "name": "stdout",
     "output_type": "stream",
     "text": [
      "100\n",
      "2\n",
      "91\n"
     ]
    }
   ],
   "source": [
    "v=int(input())\n",
    "t=int(input())\n",
    "s=0\n",
    "print((v*t)%109)"
   ]
  },
  {
   "cell_type": "markdown",
   "metadata": {},
   "source": [
    "# Задание 18"
   ]
  },
  {
   "cell_type": "code",
   "execution_count": 14,
   "metadata": {},
   "outputs": [
    {
     "name": "stdout",
     "output_type": "stream",
     "text": [
      "8504\n",
      "2:21:44\n"
     ]
    }
   ],
   "source": [
    "n=int(input())\n",
    "print(int(n/3600), \":\", sep='', end='')\n",
    "print('{0:{1}>2}'.format(((n - n % 60) // 60) % 60, \"0\"), \":\", sep='', end='')\n",
    "print(str(n%60).zfill(2))"
   ]
  },
  {
   "cell_type": "markdown",
   "metadata": {},
   "source": [
    "# Задание 19"
   ]
  },
  {
   "cell_type": "code",
   "execution_count": 3,
   "metadata": {},
   "outputs": [
    {
     "name": "stdout",
     "output_type": "stream",
     "text": [
      "2\n",
      "2\n",
      "2\n",
      "4\n",
      "7\n",
      "23\n",
      "7521\n"
     ]
    }
   ],
   "source": [
    "h1=int(input())\n",
    "m1=int(input())\n",
    "s1=int(input())\n",
    "h2=int(input())\n",
    "m2=int(input())\n",
    "s2=int(input())\n",
    "print((h2-h1)*3600+(m2-m1)*60+(s2-s1))"
   ]
  },
  {
   "cell_type": "markdown",
   "metadata": {},
   "source": [
    "# Задание 20"
   ]
  },
  {
   "cell_type": "code",
   "execution_count": 6,
   "metadata": {},
   "outputs": [
    {
     "name": "stdout",
     "output_type": "stream",
     "text": [
      "100\n",
      "2450\n",
      "25\n"
     ]
    }
   ],
   "source": [
    "n=int(input())\n",
    "m=int(input())\n",
    "print((n+m-1)//n)"
   ]
  },
  {
   "cell_type": "markdown",
   "metadata": {},
   "source": [
    "# Задание 21"
   ]
  },
  {
   "cell_type": "code",
   "execution_count": 10,
   "metadata": {},
   "outputs": [
    {
     "name": "stdout",
     "output_type": "stream",
     "text": [
      "10\n",
      "3\n",
      "2\n",
      "8\n"
     ]
    }
   ],
   "source": [
    "h=int(input())\n",
    "a=int(input())\n",
    "b=int(input())\n",
    "print(int((h-a-1)//(a-b)+2))"
   ]
  },
  {
   "cell_type": "markdown",
   "metadata": {},
   "source": [
    "# Задание 22"
   ]
  },
  {
   "cell_type": "code",
   "execution_count": 15,
   "metadata": {},
   "outputs": [
    {
     "name": "stdout",
     "output_type": "stream",
     "text": [
      "8778\n",
      "1\n"
     ]
    }
   ],
   "source": [
    "n=int(input())\n",
    "n1=n//1000\n",
    "n2=(n%1000)//100\n",
    "n3=(n%100)//10\n",
    "n4=n%10\n",
    "s1=n1-n4\n",
    "s2=n2-n3\n",
    "print(s1+s2+1)"
   ]
  },
  {
   "cell_type": "markdown",
   "metadata": {},
   "source": [
    "# Задание 23"
   ]
  },
  {
   "cell_type": "code",
   "execution_count": null,
   "metadata": {},
   "outputs": [],
   "source": [
    "a=int(input())\n",
    "b=int(input())\n",
    "a1=a//b\n",
    "a2=a%b\n",
    "a3=0**(a-a2)\n",
    "b1=b//a\n",
    "b2=b%a\n",
    "b3=0**(b-b2)\n",
    "Max=a1*b2+a2*b1+a2*a3+a2*b3+a*a3**b3*b3**a3\n",
    "print(Max)"
   ]
  },
  {
   "cell_type": "markdown",
   "metadata": {},
   "source": [
    "# Задание 24"
   ]
  },
  {
   "cell_type": "code",
   "execution_count": 18,
   "metadata": {},
   "outputs": [
    {
     "name": "stdout",
     "output_type": "stream",
     "text": [
      "10\n",
      "5\n",
      "Yes \n"
     ]
    }
   ],
   "source": [
    "a=int(input())\n",
    "b=int(input())\n",
    "print('Yes'*((a//b-a%b)//(a//b)), 'No'*((((a%b)+2)//((a%b)+1))%2))"
   ]
  }
 ],
 "metadata": {
  "kernelspec": {
   "display_name": "Python 3",
   "language": "python",
   "name": "python3"
  },
  "language_info": {
   "codemirror_mode": {
    "name": "ipython",
    "version": 3
   },
   "file_extension": ".py",
   "mimetype": "text/x-python",
   "name": "python",
   "nbconvert_exporter": "python",
   "pygments_lexer": "ipython3",
   "version": "3.8.3"
  }
 },
 "nbformat": 4,
 "nbformat_minor": 4
}
